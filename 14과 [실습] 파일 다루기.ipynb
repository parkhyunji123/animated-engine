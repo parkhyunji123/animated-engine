{
 "cells": [
  {
   "cell_type": "markdown",
   "metadata": {
    "id": "452f1bd7"
   },
   "source": [
    "# chapter 14. 파일 다루기"
   ]
  },
  {
   "cell_type": "markdown",
   "metadata": {
    "id": "c0596c14"
   },
   "source": [
    "## 1) 파일 경로"
   ]
  },
  {
   "cell_type": "markdown",
   "metadata": {
    "id": "skESn5hLuRhE"
   },
   "source": [
    "① pathlib 패키지의 Path 함수를 불러와 현재 홈 디렉토리 정보를 확인해 보시오."
   ]
  },
  {
   "cell_type": "code",
   "execution_count": null,
   "metadata": {
    "id": "a62b8365"
   },
   "outputs": [],
   "source": []
  },
  {
   "cell_type": "markdown",
   "metadata": {
    "id": "053e35d4"
   },
   "source": [
    "## 2) 새 파일 만들기"
   ]
  },
  {
   "cell_type": "markdown",
   "metadata": {
    "id": "C39jCGUhuU_n"
   },
   "source": [
    "① open 함수로 파일오브젝트 f에 새 파일 이름과 옵션 'w'를 지정하여 홈 디렉토리에 새 파일을 만들어 봅시다.\n",
    "* 파일 이름: \"newfile2.txt\""
   ]
  },
  {
   "cell_type": "code",
   "execution_count": 2,
   "metadata": {
    "id": "c1d83bdb"
   },
   "outputs": [],
   "source": []
  },
  {
   "cell_type": "markdown",
   "metadata": {
    "id": "3ed94888"
   },
   "source": [
    "## 3) 파일 쓰기"
   ]
  },
  {
   "cell_type": "markdown",
   "metadata": {
    "id": "QBwinWnuuaKB"
   },
   "source": [
    "① 파일오브젝트.write()로 앞서 만든 파일에 '파일 쓰기 연습입니다.'라고 써 보시오."
   ]
  },
  {
   "cell_type": "code",
   "execution_count": 3,
   "metadata": {
    "id": "5d5e66fa"
   },
   "outputs": [
    {
     "data": {
      "text/plain": [
       "12"
      ]
     },
     "execution_count": 3,
     "metadata": {},
     "output_type": "execute_result"
    }
   ],
   "source": []
  },
  {
   "cell_type": "markdown",
   "metadata": {
    "id": "9QFeIYawubmK"
   },
   "source": [
    "② 파일오브젝트.close()로 파일을 종료하고 파일에 작성한 내용이 잘 기록되었는지 확인해 보시오."
   ]
  },
  {
   "cell_type": "code",
   "execution_count": 4,
   "metadata": {
    "id": "07830e6a"
   },
   "outputs": [],
   "source": []
  },
  {
   "cell_type": "markdown",
   "metadata": {
    "id": "lrawZvlYueND"
   },
   "source": [
    "③ 파일을 'w'로 오픈하고 내용(\"파일에 글씨를 써 봅시다\")을 다시 작성하여 기존 내용을 덮어 씌워 보시오."
   ]
  },
  {
   "cell_type": "code",
   "execution_count": 5,
   "metadata": {
    "id": "8de24293"
   },
   "outputs": [],
   "source": []
  },
  {
   "cell_type": "markdown",
   "metadata": {
    "id": "FsZbEcEbugBE"
   },
   "source": [
    "④ 파일을 'a' 옵션을 사용하여 오픈하고 기존 내용에 새로운 내용을 추가해 보시오."
   ]
  },
  {
   "cell_type": "code",
   "execution_count": 6,
   "metadata": {
    "id": "fdd21c78"
   },
   "outputs": [],
   "source": []
  },
  {
   "cell_type": "markdown",
   "metadata": {
    "id": "ISkysOP5uity"
   },
   "source": [
    "⑤ 줄 바꿈 기호를 사용하여 기존 내용에 새로운 내용이 한 줄 내려가서 써 지도록 추가해 보시오."
   ]
  },
  {
   "cell_type": "code",
   "execution_count": 7,
   "metadata": {
    "id": "3dfe1b5a"
   },
   "outputs": [],
   "source": []
  },
  {
   "cell_type": "markdown",
   "metadata": {
    "id": "MplJ8UzEulwq"
   },
   "source": [
    "⑥ [심화] 지금까지 배운 내용을 활용하여 다음과 같은 내용을 작성한 파일을 만들어 보시오.\n",
    "* 먼저 제목으로 파일을 생성하고,\n",
    "* 파일오브젝트.write()를 사용하여 첫 줄을 작성하시오.\n",
    "* 파일오브젝트.close()로 종료하고\n",
    "* 파일을 다시 열어 나머지 내용들을 한 줄씩 추가하시오.\n",
    "\n",
    "        제목 : Little Star.txt\n",
    "        내용 :\n",
    "        Twinkle, twinkle little star\n",
    "        How I wonder what you are\n",
    "        Up above the world so high\n",
    "        Like a diamond in the sky\n",
    "        Twinkle, twinkle little star\n",
    "        How I wonder what you are"
   ]
  },
  {
   "cell_type": "code",
   "execution_count": 8,
   "metadata": {
    "id": "fc3406c1"
   },
   "outputs": [],
   "source": []
  },
  {
   "cell_type": "markdown",
   "metadata": {
    "id": "03ff53bb"
   },
   "source": [
    "## 4) 파일 읽기"
   ]
  },
  {
   "cell_type": "markdown",
   "metadata": {
    "id": "RIj6Ujcdu--1"
   },
   "source": [
    "① poem.txt 파일을 .readline()을 사용하여 한 줄, 한 줄 읽어오시오."
   ]
  },
  {
   "cell_type": "code",
   "execution_count": 9,
   "metadata": {
    "id": "1f44a218"
   },
   "outputs": [
    {
     "name": "stdout",
     "output_type": "stream",
     "text": [
      "서시\n",
      "\n",
      "윤동주\n",
      "\n",
      "\n",
      "\n",
      "죽는 날까지 하늘을 우러러\n",
      "\n"
     ]
    }
   ],
   "source": []
  },
  {
   "cell_type": "markdown",
   "metadata": {
    "id": "Gx2Pu8QlvB-m"
   },
   "source": [
    "② poem.txt 파일을 .readlines()를 사용하여 전체를 리스트로 읽어오시오."
   ]
  },
  {
   "cell_type": "code",
   "execution_count": 10,
   "metadata": {
    "id": "56b623ac"
   },
   "outputs": [
    {
     "name": "stdout",
     "output_type": "stream",
     "text": [
      "['서시\\n', '윤동주\\n', '\\n', '죽는 날까지 하늘을 우러러\\n', '한 점 부끄럼이 없기를,\\n', '잎새에 이는 바람에도\\n', '나는 괴로워했다.\\n', '\\n', '별을 노래하는 마음으로\\n', '모든 죽어 가는 것을 사랑해야지\\n', '그리고 나한테 주어진 길을\\n', '걸어가야겠다.\\n', '\\n', '오늘 밤에도 별이 바람에 스치운다.\\n']\n"
     ]
    }
   ],
   "source": []
  },
  {
   "cell_type": "markdown",
   "metadata": {
    "id": "c_tBucCevGOJ"
   },
   "source": [
    "③ poem.txt 파일을 .realines()와 for loop를 사용하여 한 줄 씩 읽어오시오."
   ]
  },
  {
   "cell_type": "code",
   "execution_count": 11,
   "metadata": {
    "id": "32e979ad"
   },
   "outputs": [
    {
     "name": "stdout",
     "output_type": "stream",
     "text": [
      "서시\n",
      "\n",
      "윤동주\n",
      "\n",
      "\n",
      "\n",
      "죽는 날까지 하늘을 우러러\n",
      "\n",
      "한 점 부끄럼이 없기를,\n",
      "\n",
      "잎새에 이는 바람에도\n",
      "\n",
      "나는 괴로워했다.\n",
      "\n",
      "\n",
      "\n",
      "별을 노래하는 마음으로\n",
      "\n",
      "모든 죽어 가는 것을 사랑해야지\n",
      "\n",
      "그리고 나한테 주어진 길을\n",
      "\n",
      "걸어가야겠다.\n",
      "\n",
      "\n",
      "\n",
      "오늘 밤에도 별이 바람에 스치운다.\n",
      "\n"
     ]
    }
   ],
   "source": []
  },
  {
   "cell_type": "markdown",
   "metadata": {
    "id": "03ff53bb"
   },
   "source": [
    "## 5) 워드 클라우드"
   ]
  },
  {
   "cell_type": "markdown",
   "metadata": {
    "id": "RIj6Ujcdu--1"
   },
   "source": [
    "① 인터넷에서 좋은 글(영문으로 된 연설문, 혹은 기사, 책 내용)을 찾아, txt로 저장하고 워드 클라우드를 만들어 봅시다.\n",
    "\n",
    "* 코드는 예제파일을 참조하세요.\n",
    "* 불필요한 단어/조사는 제거하세요.\n",
    "* 글의 내용을 한눈에 파악할 수 있는 멋진 워드클라우드를 만들어 봅시다."
   ]
  },
  {
   "cell_type": "code",
   "execution_count": null,
   "metadata": {},
   "outputs": [],
   "source": []
  },
  {
   "cell_type": "code",
   "execution_count": null,
   "metadata": {},
   "outputs": [],
   "source": []
  },
  {
   "cell_type": "code",
   "execution_count": null,
   "metadata": {},
   "outputs": [],
   "source": []
  },
  {
   "cell_type": "code",
   "execution_count": null,
   "metadata": {},
   "outputs": [],
   "source": []
  },
  {
   "cell_type": "code",
   "execution_count": null,
   "metadata": {},
   "outputs": [],
   "source": []
  }
 ],
 "metadata": {
  "colab": {
   "collapsed_sections": [],
   "name": "14과 [실습] 파일 다루기.ipynb",
   "provenance": []
  },
  "kernelspec": {
   "display_name": "Python 3",
   "language": "python",
   "name": "python3"
  },
  "language_info": {
   "codemirror_mode": {
    "name": "ipython",
    "version": 3
   },
   "file_extension": ".py",
   "mimetype": "text/x-python",
   "name": "python",
   "nbconvert_exporter": "python",
   "pygments_lexer": "ipython3",
   "version": "3.6.5"
  }
 },
 "nbformat": 4,
 "nbformat_minor": 5
}
